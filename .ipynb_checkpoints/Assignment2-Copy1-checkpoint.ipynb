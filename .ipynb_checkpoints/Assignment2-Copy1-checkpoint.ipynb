{
 "cells": [
  {
   "cell_type": "code",
   "execution_count": 11,
   "metadata": {},
   "outputs": [],
   "source": [
    "import sys\n",
    "import random \n",
    "import threading\n",
    "import random\n",
    "import time\n",
    "import re\n",
    "\n",
    "from collections import OrderedDict\n",
    "\n",
    "def convert(inputPath,outputPath) :\n",
    "    jsonOutput = {}\n",
    "    \n",
    "    with open(inputPath) as f:\n",
    "         for line in f:   \n",
    "             data = re.split(r'\\t+', line)\n",
    "           #  print (data)\n",
    "             def oldSource = 9999999999\n",
    "             def children = []\n",
    "             for i,classDefLine in enumerate(data): \n",
    "                if(i==0):\n",
    "                    source = classDefLine.strip(\"\\n\\r\")\n",
    "                    if oldSource != source :\n",
    "                        children = []\n",
    "                    \n",
    "                    childName = jsonOutput[source]\n",
    "                    def data = {}\n",
    "                    data[\"name\"] = childName\n",
    "                    \n",
    "                    children\n",
    "                        \n",
    "            #    print (classDefLine)\n",
    "           \n",
    "                    \n",
    "            \n",
    "\n",
    "                        "
   ]
  },
  {
   "cell_type": "code",
   "execution_count": 23,
   "metadata": {},
   "outputs": [
    {
     "name": "stdout",
     "output_type": "stream",
     "text": [
      "0\n",
      "0\n",
      "0\n",
      "0\n",
      "0\n",
      "1\n",
      "1\n",
      "1\n",
      "1\n",
      "1\n",
      "2\n",
      "2\n",
      "2\n",
      "2\n",
      "2\n",
      "3\n",
      "3\n",
      "3\n",
      "3\n",
      "3\n",
      "4\n",
      "4\n",
      "4\n",
      "4\n",
      "4\n",
      "5\n",
      "5\n",
      "5\n",
      "5\n"
     ]
    }
   ],
   "source": [
    "convert(\"amazon_small.txt\",\"d3.json\")"
   ]
  },
  {
   "cell_type": "code",
   "execution_count": 5,
   "metadata": {},
   "outputs": [],
   "source": [
    "import snap\n",
    "\n",
    "G1 = snap.TNGraph.New()\n",
    "G1.AddNode(1)\n",
    "G1.AddNode(5)\n",
    "G1.AddNode(12)\n",
    "G1.AddEdge(1,5)\n",
    "G1.AddEdge(5,1)\n",
    "G1.AddEdge(5,12)\n",
    "\n",
    "NIdName = snap.TIntStrH()\n",
    "NIdName[1] = \"1\"\n",
    "NIdName[5] = \"5\"\n",
    "NIdName[12] = \"12\"\n",
    "\n",
    "snap.DrawGViz(G1, snap.gvlDot, \"G1.png\", \"G1\", NIdName)"
   ]
  },
  {
   "cell_type": "code",
   "execution_count": null,
   "metadata": {},
   "outputs": [],
   "source": []
  }
 ],
 "metadata": {
  "kernelspec": {
   "display_name": "Python 2",
   "language": "python",
   "name": "python2"
  },
  "language_info": {
   "codemirror_mode": {
    "name": "ipython",
    "version": 2
   },
   "file_extension": ".py",
   "mimetype": "text/x-python",
   "name": "python",
   "nbconvert_exporter": "python",
   "pygments_lexer": "ipython2",
   "version": "2.7.15"
  }
 },
 "nbformat": 4,
 "nbformat_minor": 2
}
