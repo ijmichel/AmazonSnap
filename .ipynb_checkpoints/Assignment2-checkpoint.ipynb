{
 "cells": [
  {
   "cell_type": "code",
   "execution_count": 121,
   "metadata": {},
   "outputs": [],
   "source": [
    "import sys\n",
    "import random \n",
    "import threading\n",
    "import random\n",
    "import time\n",
    "import re\n",
    "\n",
    "from collections import OrderedDict\n",
    "\n",
    "def saveToBinaryGraphFile(inputPath) :\n",
    "    \n",
    "    G1 = snap.TNGraph.New()\n",
    "    visited = []\n",
    "    labels = snap.TIntStrH()\n",
    "    count = 0\n",
    "    \n",
    "    with open(inputPath) as f:\n",
    "         for line in f:   \n",
    "            count = count +1\n",
    "            if count % 100000 == 0:\n",
    "                 print \"processing --> \", count\n",
    "            data = re.split(r'\\t+', line)\n",
    "            for i,classDefLine in enumerate(data): \n",
    "                if(i==0):\n",
    "                    node = classDefLine.strip(\"\\n\\r\")\n",
    "#                     print \"Node\",node\n",
    "                    if node not in visited :\n",
    "                        G1.AddNode(int(node))\n",
    "                        visited.append(node)\n",
    "                else:\n",
    "                    edge = classDefLine.strip(\"\\n\\r\")\n",
    "#                     print \"Edge\",node,\":\",edge\n",
    "                    if edge not in visited :\n",
    "                        G1.AddNode(int(edge))\n",
    "                        visited.append(edge)\n",
    "                    \n",
    "                    G1.AddEdge(int(node),int(edge))\n",
    "    \n",
    "    print \"Done loading into G1\"\n",
    "    \n",
    "    FOut = snap.TFOut(\"amazon.graph\")\n",
    "    G1.Save(FOut)\n",
    "    FOut.Flush()\n",
    "    \n",
    "#     for NI in G1.Nodes():\n",
    "#         labels[NI.GetId()] = str(NI.GetId())   \n",
    "        \n",
    "#     print \"Drawing\"\n",
    "        \n",
    "#     snap.DrawGViz(G1, snap.gvlDot, \"AmazonFull.png\", \"G1\", labels)\n",
    "                    \n",
    "    print \"Done Savings to amazon.graph\"        \n",
    "\n",
    "                        "
   ]
  },
  {
   "cell_type": "code",
   "execution_count": 114,
   "metadata": {},
   "outputs": [],
   "source": [
    "def loadAndDraw(inputPath) :\n",
    "    \n",
    "    print \"Loading : \", inputPath\n",
    "    FIn = snap.TFIn(inputPath)\n",
    "    G1 = snap.TNGraph.Load(FIn)\n",
    "    print \"Done Loading.  Details:\"\n",
    "    print \"G1: Nodes %d, Edges %d\" % (G1.GetNodes(), G1.GetEdges())\n",
    "#     G1 = snap.LoadEdgeList(snap.PNGraph, inputPath, 0, 1)\n",
    "    #G1.Dump()\n",
    "        \n",
    "    print \"Drawing\"\n",
    "    \n",
    "    colors = []\n",
    "    colors = snap.TIntStrH()\n",
    "    \n",
    "    for NI in G1.Nodes():\n",
    "        colors[NI.GetId()] = \"black\"   \n",
    "        \n",
    "        \n",
    "    snap.DrawGViz(G1, snap.gvlDot, \"AmazonFull.png\", \"Amazon Graph\",True) \n",
    "                    \n",
    "    print \"Done\"        "
   ]
  },
  {
   "cell_type": "code",
   "execution_count": 115,
   "metadata": {},
   "outputs": [
    {
     "name": "stdout",
     "output_type": "stream",
     "text": [
      "G1: Nodes 24, Edges 29\n",
      "Drawing\n",
      "Done\n"
     ]
    }
   ],
   "source": [
    "loadAndDraw(\"amazon.graph\")"
   ]
  },
  {
   "cell_type": "code",
   "execution_count": 122,
   "metadata": {
    "scrolled": true
   },
   "outputs": [
    {
     "name": "stdout",
     "output_type": "stream",
     "text": [
      "processing -->  100000\n",
      "processing -->  200000\n",
      "processing -->  300000\n",
      "processing -->  400000\n",
      "processing -->  500000\n",
      "processing -->  600000\n",
      "processing -->  700000\n",
      "processing -->  800000\n",
      "processing -->  900000\n",
      "processing -->  1000000\n",
      "processing -->  1100000\n",
      "processing -->  1200000\n",
      "Done loading into G1\n",
      "Done Savings to amazon.graph\n"
     ]
    }
   ],
   "source": [
    "saveToBinaryGraphFile(\"amazon0302.txt\")\n",
    "#  saveToBinaryGraphFile(\"amazon_small.txt\")"
   ]
  },
  {
   "cell_type": "code",
   "execution_count": null,
   "metadata": {},
   "outputs": [],
   "source": []
  }
 ],
 "metadata": {
  "kernelspec": {
   "display_name": "Python 2",
   "language": "python",
   "name": "python2"
  },
  "language_info": {
   "codemirror_mode": {
    "name": "ipython",
    "version": 2
   },
   "file_extension": ".py",
   "mimetype": "text/x-python",
   "name": "python",
   "nbconvert_exporter": "python",
   "pygments_lexer": "ipython2",
   "version": "2.7.15"
  }
 },
 "nbformat": 4,
 "nbformat_minor": 2
}
